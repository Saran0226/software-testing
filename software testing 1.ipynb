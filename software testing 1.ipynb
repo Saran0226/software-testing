{
 "cells": [
  {
   "cell_type": "code",
   "execution_count": 24,
   "id": "239bb958-f756-48ab-809d-a697ecbe2f2d",
   "metadata": {},
   "outputs": [
    {
     "name": "stdout",
     "output_type": "stream",
     "text": [
      "Running Automated Tests...\n",
      "\n",
      "Test Case 1: Input=2 | Expected=4 | Actual=4 --> PASS\n",
      "Test Case 2: Input=-3 | Expected=3 | Actual=9 --> FAIL\n",
      "Test Case 3: Input=0 | Expected=0 | Actual=0 --> PASS\n",
      "Test Case 4: Input=5 | Expected=2 | Actual=25 --> FAIL\n",
      "Test Case 5: Input=10 | Expected=10 | Actual=100 --> FAIL\n",
      "Test Case 6: Input=-1 | Expected=1 | Actual=1 --> PASS\n",
      "\n",
      "Testing Completed: 3/6 Tests Passed.\n"
     ]
    }
   ],
   "source": [
    "\n",
    "def square(x):\n",
    "    return x * x\n",
    "test_cases = [\n",
    "    {\"input\": 2, \"expected\": 4},\n",
    "    {\"input\": -3, \"expected\": 3},\n",
    "    {\"input\": 0, \"expected\": 0},\n",
    "    {\"input\": 5, \"expected\": 2},\n",
    "    {\"input\": 10, \"expected\": 10},\n",
    "    {\"input\": -1, \"expected\": 1}\n",
    "]\n",
    "\n",
    "def run_tests():\n",
    "    print(\"Running Automated Tests...\\n\")\n",
    "    passed = 0\n",
    "    for index, test in enumerate(test_cases):\n",
    "        input_value = test[\"input\"]\n",
    "        expected_output = test[\"expected\"]\n",
    "        actual_output = square(input_value)\n",
    "\n",
    "        if actual_output == expected_output:\n",
    "            result = \"PASS\"\n",
    "            passed += 1\n",
    "        else:\n",
    "            result = \"FAIL\"\n",
    "     \n",
    "        print(f\"Test Case {index + 1}: Input={input_value} | Expected={expected_output} | Actual={actual_output} --> {result}\")\n",
    "\n",
    "    total = len(test_cases)\n",
    "    print(f\"\\nTesting Completed: {passed}/{total} Tests Passed.\")\n",
    "\n",
    "\n",
    "if __name__ == \"__main__\":\n",
    "    run_tests()"
   ]
  },
  {
   "cell_type": "code",
   "execution_count": null,
   "id": "83d4fc6c-15c6-4bdb-8a3a-63bd2e0fc21f",
   "metadata": {},
   "outputs": [],
   "source": []
  }
 ],
 "metadata": {
  "kernelspec": {
   "display_name": "Python 3 (ipykernel)",
   "language": "python",
   "name": "python3"
  },
  "language_info": {
   "codemirror_mode": {
    "name": "ipython",
    "version": 3
   },
   "file_extension": ".py",
   "mimetype": "text/x-python",
   "name": "python",
   "nbconvert_exporter": "python",
   "pygments_lexer": "ipython3",
   "version": "3.12.4"
  }
 },
 "nbformat": 4,
 "nbformat_minor": 5
}

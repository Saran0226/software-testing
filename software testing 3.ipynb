{
 "cells": [
  {
   "cell_type": "code",
   "execution_count": null,
   "id": "fdd391ab-dfd5-45ad-97c1-d2bba3b3d8a2",
   "metadata": {},
   "outputs": [
    {
     "name": "stdout",
     "output_type": "stream",
     "text": [
      "\n",
      "--- Defect Tracking System ---\n",
      "1. Add Defect\n",
      "2. View Defects\n",
      "3. Close Defect\n",
      "4. Generate Report\n",
      "5. Exit\n"
     ]
    },
    {
     "name": "stdin",
     "output_type": "stream",
     "text": [
      "Enter your choice (1-5):  1\n",
      "Enter defect title:  me\n",
      "Enter defect description:  about\n",
      "Enter severity (Low/Medium/High):  medium\n"
     ]
    },
    {
     "name": "stdout",
     "output_type": "stream",
     "text": [
      "Defect 1 added successfully!\n",
      "\n",
      "--- Defect Tracking System ---\n",
      "1. Add Defect\n",
      "2. View Defects\n",
      "3. Close Defect\n",
      "4. Generate Report\n",
      "5. Exit\n"
     ]
    },
    {
     "name": "stdin",
     "output_type": "stream",
     "text": [
      "Enter your choice (1-5):  4\n"
     ]
    },
    {
     "name": "stdout",
     "output_type": "stream",
     "text": [
      "\n",
      "--- Defect Report ---\n",
      "Total Defects: 1\n",
      "Open Defects: 1\n",
      "Closed Defects: 0\n",
      "\n",
      "--- Defect Tracking System ---\n",
      "1. Add Defect\n",
      "2. View Defects\n",
      "3. Close Defect\n",
      "4. Generate Report\n",
      "5. Exit\n"
     ]
    },
    {
     "name": "stdin",
     "output_type": "stream",
     "text": [
      "Enter your choice (1-5):  3\n",
      "Enter Defect ID to close:  me\n"
     ]
    },
    {
     "name": "stdout",
     "output_type": "stream",
     "text": [
      "Invalid input! Please enter a numeric Defect ID.\n",
      "\n",
      "--- Defect Tracking System ---\n",
      "1. Add Defect\n",
      "2. View Defects\n",
      "3. Close Defect\n",
      "4. Generate Report\n",
      "5. Exit\n"
     ]
    },
    {
     "name": "stdin",
     "output_type": "stream",
     "text": [
      "Enter your choice (1-5):  1\n",
      "Enter defect title:  5\n"
     ]
    }
   ],
   "source": [
    "defect_database = {}\n",
    "defect_id_counter = 1 \n",
    "\n",
    "def add_defect(title, description, severity):\n",
    "    global defect_id_counter\n",
    "    defect_database[defect_id_counter] = {\n",
    "        \"Title\": title,\n",
    "        \"Description\": description,\n",
    "        \"Severity\": severity,\n",
    "        \"Status\": \"Open\"\n",
    "    }\n",
    "    print(f\"Defect {defect_id_counter} added successfully!\")\n",
    "    defect_id_counter += 1\n",
    "\n",
    "def view_defects():\n",
    "    if not defect_database:\n",
    "        print(\"\\nNo defects recorded yet.\")\n",
    "    else:\n",
    "        print(\"\\nCurrent Defect List:\")\n",
    "        for defect_id, details in defect_database.items():\n",
    "            print(f\"ID: {defect_id} | Title: {details['Title']} | Severity: {details['Severity']} | Status: {details['Status']}\")\n",
    "\n",
    "def close_defect(defect_id):\n",
    "    if defect_id in defect_database:\n",
    "        defect_database[defect_id][\"Status\"] = \"Closed\"\n",
    "        print(f\"Defect {defect_id} has been closed.\")\n",
    "    else:\n",
    "        print(\"Invalid Defect ID!\")\n",
    "\n",
    "def generate_report():\n",
    "    total = len(defect_database)\n",
    "    open_defects = sum(1 for defect in defect_database.values() if defect[\"Status\"] == \"Open\")\n",
    "    closed_defects = total - open_defects\n",
    "\n",
    "    print(\"\\n--- Defect Report ---\")\n",
    "    print(f\"Total Defects: {total}\")\n",
    "    print(f\"Open Defects: {open_defects}\")\n",
    "    print(f\"Closed Defects: {closed_defects}\")\n",
    "\n",
    "def main():\n",
    "    while True:\n",
    "        print(\"\\n--- Defect Tracking System ---\")\n",
    "        print(\"1. Add Defect\")\n",
    "        print(\"2. View Defects\")\n",
    "        print(\"3. Close Defect\")\n",
    "        print(\"4. Generate Report\")\n",
    "        print(\"5. Exit\")\n",
    "        choice = input(\"Enter your choice (1-5): \")\n",
    "\n",
    "        if choice == '1':\n",
    "            title = input(\"Enter defect title: \")\n",
    "            description = input(\"Enter defect description: \")\n",
    "            severity = input(\"Enter severity (Low/Medium/High): \")\n",
    "            add_defect(title, description, severity)\n",
    "        elif choice == '2':\n",
    "            view_defects()\n",
    "        elif choice == '3':\n",
    "            try:\n",
    "                defect_id = int(input(\"Enter Defect ID to close: \"))\n",
    "                close_defect(defect_id)\n",
    "            except ValueError:\n",
    "                print(\"Invalid input! Please enter a numeric Defect ID.\")\n",
    "        elif choice == '4':\n",
    "            generate_report()\n",
    "        elif choice == '5':\n",
    "            print(\"Exiting Defect Tracking System. Goodbye!\")\n",
    "            break\n",
    "        else:\n",
    "            print(\"Invalid choice. Please select between 1 to 5.\")\n",
    "\n",
    "if __name__ == \"__main__\":\n",
    "    main()"
   ]
  },
  {
   "cell_type": "code",
   "execution_count": null,
   "id": "5b2413b6-8d90-44da-aac1-93a36bd819dd",
   "metadata": {},
   "outputs": [],
   "source": []
  }
 ],
 "metadata": {
  "kernelspec": {
   "display_name": "Python 3 (ipykernel)",
   "language": "python",
   "name": "python3"
  },
  "language_info": {
   "codemirror_mode": {
    "name": "ipython",
    "version": 3
   },
   "file_extension": ".py",
   "mimetype": "text/x-python",
   "name": "python",
   "nbconvert_exporter": "python",
   "pygments_lexer": "ipython3",
   "version": "3.12.4"
  }
 },
 "nbformat": 4,
 "nbformat_minor": 5
}

{
 "cells": [
  {
   "cell_type": "code",
   "execution_count": 1,
   "id": "e76be3f1-670c-4d01-9d3c-2523536926d3",
   "metadata": {},
   "outputs": [
    {
     "name": "stdout",
     "output_type": "stream",
     "text": [
      "Welcome to McCall’s Quality Model Evaluation\n",
      "\n",
      "Please answer the following questions to evaluate the software.\n",
      "\n",
      "\n",
      "--- Evaluating Reliability ---\n"
     ]
    },
    {
     "name": "stdin",
     "output_type": "stream",
     "text": [
      "Does the software handle unexpected input gracefully? (Rate from 1 to 5):  5\n",
      "Does it recover from crashes or errors automatically? (Rate from 1 to 5):  2\n",
      "Is the software available and responsive under load? (Rate from 1 to 5):  4\n",
      "Does it produce consistent results every time? (Rate from 1 to 5):  3\n",
      "Are bugs rarely encountered during usage? (Rate from 1 to 5):  4\n"
     ]
    },
    {
     "name": "stdout",
     "output_type": "stream",
     "text": [
      "\n",
      "--- Evaluating Maintainability ---\n"
     ]
    },
    {
     "name": "stdin",
     "output_type": "stream",
     "text": [
      "Is the code modular and easy to modify? (Rate from 1 to 5):  4\n",
      "Is the documentation sufficient and updated? (Rate from 1 to 5):  4\n",
      "Can new developers understand the code easily? (Rate from 1 to 5):  4\n",
      "Are changes easy to implement without breaking existing code? (Rate from 1 to 5):  4\n",
      "Is version control and CI/CD integrated? (Rate from 1 to 5):  4\n"
     ]
    },
    {
     "name": "stdout",
     "output_type": "stream",
     "text": [
      "\n",
      "--- Evaluating Usability ---\n"
     ]
    },
    {
     "name": "stdin",
     "output_type": "stream",
     "text": [
      "Is the user interface intuitive and user-friendly? (Rate from 1 to 5):  4\n",
      "Is navigation within the application smooth? (Rate from 1 to 5):  4\n",
      "Are error messages clear and helpful? (Rate from 1 to 5):  4\n",
      "Can the user perform key tasks with minimal guidance? (Rate from 1 to 5):  4\n",
      "Is there proper help and support documentation? (Rate from 1 to 5):  4\n"
     ]
    },
    {
     "name": "stdout",
     "output_type": "stream",
     "text": [
      "\n",
      "--- Quality Assessment Summary ---\n",
      "Reliability Score: 3.60 / 5\n",
      "Maintainability Score: 4.00 / 5\n",
      "Usability Score: 4.00 / 5\n",
      "\n",
      "Overall Quality Score: 3.87 / 5\n",
      "Quality Level: Good\n"
     ]
    }
   ],
   "source": [
    "def get_score(question):\n",
    "    while True:\n",
    "        try:\n",
    "            score = int(input(f\"{question} (Rate from 1 to 5): \"))\n",
    "            if 1 <= score <= 5:\n",
    "                return score\n",
    "            else:\n",
    "                print(\"Please enter a score between 1 and 5.\")\n",
    "        except ValueError:\n",
    "            print(\"Invalid input. Please enter an integer from 1 to 5.\")\n",
    "\n",
    "\n",
    "reliability_questions = [\n",
    "    \"Does the software handle unexpected input gracefully?\",\n",
    "    \"Does it recover from crashes or errors automatically?\",\n",
    "    \"Is the software available and responsive under load?\",\n",
    "    \"Does it produce consistent results every time?\",\n",
    "    \"Are bugs rarely encountered during usage?\"\n",
    "]\n",
    "\n",
    "maintainability_questions = [\n",
    "    \"Is the code modular and easy to modify?\",\n",
    "    \"Is the documentation sufficient and updated?\",\n",
    "    \"Can new developers understand the code easily?\",\n",
    "    \"Are changes easy to implement without breaking existing code?\",\n",
    "    \"Is version control and CI/CD integrated?\"\n",
    "]\n",
    "\n",
    "usability_questions = [\n",
    "    \"Is the user interface intuitive and user-friendly?\",\n",
    "    \"Is navigation within the application smooth?\",\n",
    "    \"Are error messages clear and helpful?\",\n",
    "    \"Can the user perform key tasks with minimal guidance?\",\n",
    "    \"Is there proper help and support documentation?\"\n",
    "]\n",
    "\n",
    "def evaluate_category(name, questions):\n",
    "    print(f\"\\n--- Evaluating {name} ---\")\n",
    "    total = 0\n",
    "    for q in questions:\n",
    "        total += get_score(q)\n",
    "    avg_score = total / len(questions)\n",
    "    return avg_score\n",
    "\n",
    "def mccall_quality_evaluation():\n",
    "    print(\"Welcome to McCall’s Quality Model Evaluation\\n\")\n",
    "    print(\"Please answer the following questions to evaluate the software.\\n\")\n",
    "\n",
    "    reliability_score = evaluate_category(\"Reliability\", reliability_questions)\n",
    "    maintainability_score = evaluate_category(\"Maintainability\", maintainability_questions)\n",
    "    usability_score = evaluate_category(\"Usability\", usability_questions)\n",
    "\n",
    "    print(\"\\n--- Quality Assessment Summary ---\")\n",
    "    print(f\"Reliability Score: {reliability_score:.2f} / 5\")\n",
    "    print(f\"Maintainability Score: {maintainability_score:.2f} / 5\")\n",
    "    print(f\"Usability Score: {usability_score:.2f} / 5\")\n",
    "\n",
    "    overall = (reliability_score + maintainability_score + usability_score) / 3\n",
    "    print(f\"\\nOverall Quality Score: {overall:.2f} / 5\")\n",
    "\n",
    "    if overall >= 4:\n",
    "        level = \"Excellent\"\n",
    "    elif overall >= 3:\n",
    "        level = \"Good\"\n",
    "    elif overall >= 2:\n",
    "        level = \"Fair\"\n",
    "    else:\n",
    "        level = \"Poor\"\n",
    "\n",
    "    print(f\"Quality Level: {level}\")\n",
    "\n",
    "if __name__ == \"__main__\":\n",
    "    mccall_quality_evaluation()\n",
    "    \n"
   ]
  },
  {
   "cell_type": "code",
   "execution_count": null,
   "id": "1ea25113-16be-493c-9f8f-350044adbe90",
   "metadata": {},
   "outputs": [],
   "source": []
  }
 ],
 "metadata": {
  "kernelspec": {
   "display_name": "Python 3 (ipykernel)",
   "language": "python",
   "name": "python3"
  },
  "language_info": {
   "codemirror_mode": {
    "name": "ipython",
    "version": 3
   },
   "file_extension": ".py",
   "mimetype": "text/x-python",
   "name": "python",
   "nbconvert_exporter": "python",
   "pygments_lexer": "ipython3",
   "version": "3.12.4"
  }
 },
 "nbformat": 4,
 "nbformat_minor": 5
}
